{
 "cells": [
  {
   "cell_type": "code",
   "execution_count": 1,
   "metadata": {},
   "outputs": [],
   "source": [
    "# !pip install --quiet langgraph langgraph-supervisor langchain-openai"
   ]
  },
  {
   "cell_type": "code",
   "execution_count": 2,
   "metadata": {},
   "outputs": [],
   "source": [
    "from langchain_openai import ChatOpenAI\n",
    "from langgraph_supervisor import create_supervisor\n",
    "from langgraph.prebuilt import create_react_agent"
   ]
  },
  {
   "cell_type": "code",
   "execution_count": null,
   "metadata": {},
   "outputs": [],
   "source": [
    "model = ChatOpenAI(temperature=0, api_key=\"\", model=\"gpt-4o-mini\")"
   ]
  },
  {
   "cell_type": "code",
   "execution_count": 4,
   "metadata": {},
   "outputs": [],
   "source": [
    "import chromadb\n",
    "\n",
    "client = chromadb.PersistentClient(path=\"chroma_db\")\n",
    "collection = client.get_collection(\"pharma-kb\")\n"
   ]
  },
  {
   "cell_type": "code",
   "execution_count": 5,
   "metadata": {},
   "outputs": [],
   "source": [
    "def search_pharma_kb(query, top_n=10):\n",
    "    results = collection.query(\n",
    "        query_texts=[query],\n",
    "        n_results=top_n\n",
    "    )\n",
    "\n",
    "    return {\"documents\": results[\"documents\"]}"
   ]
  },
  {
   "cell_type": "code",
   "execution_count": 6,
   "metadata": {},
   "outputs": [
    {
     "name": "stdout",
     "output_type": "stream",
     "text": [
      "{'documents': [['of NSAIDs with aspirin (seePRECAUTIONS;Drug Interactions).Clinical StudiesIn controlled, double-blind, clinical trials, mefenamic acid was evaluated for the treatment of primary spasmodic dysmenorrhea. The parameters used in determining efficacy included pain assessment by both patient and investigator; the need for concurrent analgesic medication; and evaluation of change in frequency and severity of symptoms characteristic of spasmodic dysmenorrhea. Patients received either mefenamic acid,', 'DysmenorrheaIn acute analgesic models of post-oral surgery pain, post-orthopedic surgical pain, and primary dysmenorrhea, celecoxib relieved pain that was rated by patients as moderate to severe. Single doses [seeDosage and Administration (2.6)] of celecoxib provided pain relief within 60 minutes.14.6  Cardiovascular Outcomes Trial:Prospective Randomized Evaluation of Celecoxib Integrated Safety vs. Ibuprofen Or Naproxen (PRECISION; NCT00346216)DesignThe PRECISION trial was a double-blind', 'DysmenorrheaIn acute analgesic models of post-oral surgery pain, post-orthopedic surgical pain, and primary dysmenorrhea, celecoxib relieved pain that was rated by patients as moderate to severe. Single doses [seeDosage and Administration (2.6)] of celecoxib provided pain relief within 60 minutes.14.6  Cardiovascular Outcomes Trial:Prospective Randomized Evaluation of Celecoxib Integrated Safety vs. Ibuprofen Or Naproxen (PRECISION; NCT00346216)DesignThe PRECISION trial was a double-blind', 'Table 2 for clinically significant drug interactions of NSAIDs with aspirin (seePRECAUTIONS;Drug Interactions).Clinical StudiesIn controlled, double-blind, clinical trials, mefenamic acid was evaluated for the treatment of primary spasmodic dysmenorrhea. The parameters used in determining efficacy included pain assessment by both patient and investigator; the need for concurrent analgesic medication; and evaluation of change in frequency and severity of symptoms characteristic of spasmodic', 'Table 2 for clinically significant drug interactions of NSAIDs with aspirin (seePRECAUTIONS;Drug Interactions).Clinical StudiesIn controlled, double-blind, clinical trials, mefenamic acid was evaluated for the treatment of primary spasmodic dysmenorrhea. The parameters used in determining efficacy included pain assessment by both patient and investigator; the need for concurrent analgesic medication; and evaluation of change in frequency and severity of symptoms characteristic of spasmodic', 'Table 2 for clinically significant drug interactions of NSAIDs with aspirin (seePRECAUTIONS;Drug Interactions).Clinical StudiesIn controlled, double-blind, clinical trials, mefenamic acid was evaluated for the treatment of primary spasmodic dysmenorrhea. The parameters used in determining efficacy included pain assessment by both patient and investigator; the need for concurrent analgesic medication; and evaluation of change in frequency and severity of symptoms characteristic of spasmodic', 'Table 2 for clinically significant drug interactions of NSAIDs with aspirin (seePRECAUTIONS;Drug Interactions).Clinical StudiesIn controlled, double-blind, clinical trials, mefenamic acid was evaluated for the treatment of primary spasmodic dysmenorrhea. The parameters used in determining efficacy included pain assessment by both patient and investigator; the need for concurrent analgesic medication; and evaluation of change in frequency and severity of symptoms characteristic of spasmodic', 'Table 2 for clinically significant drug interactions of NSAIDs with aspirin (seePRECAUTIONS;Drug Interactions).Clinical StudiesIn controlled, double-blind, clinical trials, mefenamic acid was evaluated for the treatment of primary spasmodic dysmenorrhea. The parameters used in determining efficacy included pain assessment by both patient and investigator; the need for concurrent analgesic medication; and evaluation of change in frequency and severity of symptoms characteristic of spasmodic', 'Table 2 for clinically significant drug interactions of NSAIDs with aspirin (seePRECAUTIONS;Drug Interactions).Clinical StudiesIn controlled, double-blind, clinical trials, mefenamic acid was evaluated for the treatment of primary spasmodic dysmenorrhea. The parameters used in determining efficacy included pain assessment by both patient and investigator; the need for concurrent analgesic medication; and evaluation of change in frequency and severity of symptoms characteristic of spasmodic', 'Table 2 for clinically significant drug interactions of NSAIDs with aspirin (seePRECAUTIONS;Drug Interactions).Clinical StudiesIn controlled, double-blind, clinical trials, mefenamic acid was evaluated for the treatment of primary spasmodic dysmenorrhea. The parameters used in determining efficacy included pain assessment by both patient and investigator; the need for concurrent analgesic medication; and evaluation of change in frequency and severity of symptoms characteristic of spasmodic']]}\n"
     ]
    }
   ],
   "source": [
    "query = \"What are some alternatives to Ibuprofen for pain relief\"\n",
    "print(search_pharma_kb(query, 10))"
   ]
  },
  {
   "cell_type": "code",
   "execution_count": 7,
   "metadata": {},
   "outputs": [],
   "source": [
    "from langchain.tools import Tool\n",
    "search_pharma_kb_tool = Tool(\n",
    "    name=\"pharma_kb_search\",\n",
    "    func=search_pharma_kb,\n",
    "    description=\"Pharamaceutical knowledge base\"\n",
    ")"
   ]
  },
  {
   "cell_type": "code",
   "execution_count": 8,
   "metadata": {},
   "outputs": [],
   "source": [
    "qa_agent = create_react_agent(\n",
    "    model=model,\n",
    "    tools=[search_pharma_kb_tool],\n",
    "    name=\"question-answer_expert\",\n",
    "    prompt=\"You are a pharmaceutical expert specializing in answering user questions about medication, composition, dosage, and side effects. Use the pharma knowledge base to retrieve relevant information and answer the user's questions in a detailed, natural language format. Provide references from the dataset when necessary. Just use the chunks from the knowledge to answer.\"\n",
    ")"
   ]
  },
  {
   "cell_type": "code",
   "execution_count": 9,
   "metadata": {},
   "outputs": [],
   "source": [
    "recommender_agent = create_react_agent(\n",
    "    model=model,\n",
    "    tools=[search_pharma_kb_tool],\n",
    "    name=\"expert-recommender\",\n",
    "    prompt=\"You are a pharmaceutical expert in recommending medications. Based on user symptoms or conditions, recommend the appropriate medication while warning about possible harmful combinations or contraindications. Use the pharma knowledge base to retrieve relevant details and ensure your recommendations are safe and personalized. Just use the chunks from the knowledge to answer.\"\n",
    ")"
   ]
  },
  {
   "cell_type": "code",
   "execution_count": 10,
   "metadata": {},
   "outputs": [],
   "source": [
    "alternatives_agent = create_react_agent(\n",
    "    model=model,\n",
    "    tools=[search_pharma_kb_tool],\n",
    "    name=\"alternatives-generator\",\n",
    "    prompt=\"You are an expert in pharmaceutical alternatives. Based on user queries, suggest safe alternatives for medications. Use the pharma knowledge base to ensure the alternatives are appropriate and explain any differences in effects, risks, and usage instructions. Just use the chunks from the knowledge to answer.\"\n",
    ")"
   ]
  },
  {
   "cell_type": "code",
   "execution_count": 11,
   "metadata": {},
   "outputs": [],
   "source": [
    "summarizer_agent = create_react_agent(\n",
    "    model=model,\n",
    "    tools=[search_pharma_kb_tool],\n",
    "    name=\"product-summarizer\",\n",
    "    prompt=\"You are an expert at summarizing pharmaceutical products. Provide a concise and clear summary of the product's key details, including its purpose, administration instructions, side effects, and warnings. Use the pharma knowledge base for accurate information. Just use the chunks from the knowledge to answer.\"\n",
    ")"
   ]
  },
  {
   "cell_type": "code",
   "execution_count": 12,
   "metadata": {},
   "outputs": [],
   "source": [
    "workflow = create_supervisor(\n",
    "    [qa_agent, recommender_agent, alternatives_agent, summarizer_agent],\n",
    "    model=model,\n",
    "    prompt=(\n",
    "        \"\"\"You are a supervisor managing four agents: a question-answer expert, a recommender, an alternatives generator, and a product summarizer. Based on the user's query, invoke the appropriate agent to retrieve the required information and provide detailed, well-structured answers or recommendations. \n",
    "        Ensure that:\n",
    "        1. The response is concise and clearly structured.\n",
    "        2. Unnecessary punctuation, such as excessive colons, dashes, or other non-essential symbols, is avoided.\n",
    "        3. The information is easy to read and free of clutter.\n",
    "        4. Provide the final answer in a well-formatted manner using bullet points, sections, or headings where necessary.\n",
    "        5. Let the final answer be of text type, not a markdown or html type.\"\"\"\n",
    "    )\n",
    ")"
   ]
  },
  {
   "cell_type": "code",
   "execution_count": 13,
   "metadata": {},
   "outputs": [],
   "source": [
    "app = workflow.compile()\n",
    "\n",
    "result = app.invoke({\n",
    "    \"messages\": [\n",
    "        {\n",
    "            \"role\": \"user\",\n",
    "            \"content\": \"What are some alternatives to Ibuprofen for pain relief\"\n",
    "        }\n",
    "    ]\n",
    "})"
   ]
  },
  {
   "cell_type": "code",
   "execution_count": 14,
   "metadata": {},
   "outputs": [
    {
     "name": "stdout",
     "output_type": "stream",
     "text": [
      "================================\u001b[1m Human Message \u001b[0m=================================\n",
      "\n",
      "What are some alternatives to Ibuprofen for pain relief\n",
      "==================================\u001b[1m Ai Message \u001b[0m==================================\n",
      "Name: supervisor\n",
      "Tool Calls:\n",
      "  transfer_to_alternatives-generator (call_5RmS5ZIEr55BgnL2p2KysfnF)\n",
      " Call ID: call_5RmS5ZIEr55BgnL2p2KysfnF\n",
      "  Args:\n",
      "=================================\u001b[1m Tool Message \u001b[0m=================================\n",
      "Name: transfer_to_alternatives-generator\n",
      "\n",
      "Successfully transferred to alternatives-generator\n",
      "==================================\u001b[1m Ai Message \u001b[0m==================================\n",
      "Name: alternatives-generator\n",
      "\n",
      "Here are some safe alternatives to Ibuprofen for pain relief:\n",
      "\n",
      "1. **Celecoxib**:\n",
      "   - **Effectiveness**: Celecoxib is effective for moderate to severe pain, providing relief within 60 minutes.\n",
      "   - **Usage**: It is often used for conditions like dysmenorrhea and post-surgical pain.\n",
      "   - **Risks**: As a COX-2 inhibitor, it may have a lower risk of gastrointestinal side effects compared to traditional NSAIDs, but it can still pose cardiovascular risks.\n",
      "\n",
      "2. **Mefenamic Acid**:\n",
      "   - **Effectiveness**: Mefenamic acid has been evaluated for treating primary dysmenorrhea and is effective in reducing pain.\n",
      "   - **Usage**: It is typically used for menstrual pain and may require assessment of pain severity and the need for additional analgesics.\n",
      "   - **Risks**: Similar to other NSAIDs, it can cause gastrointestinal issues and should be used with caution in patients with a history of such problems.\n",
      "\n",
      "### Differences in Effects and Usage:\n",
      "- **Onset of Action**: Celecoxib may provide faster relief compared to mefenamic acid.\n",
      "- **Side Effects**: Both alternatives share common NSAID side effects, but celecoxib may have a more favorable gastrointestinal profile.\n",
      "- **Indications**: While both can be used for pain relief, their specific indications may vary, with mefenamic acid being more focused on menstrual pain.\n",
      "\n",
      "### Usage Instructions:\n",
      "- Always follow the prescribed dosage and consult with a healthcare provider before switching medications.\n",
      "- Monitor for any adverse effects, especially gastrointestinal symptoms, and report them to a healthcare professional.\n",
      "\n",
      "These alternatives can be effective, but individual responses may vary, so it's essential to consult with a healthcare provider for personalized advice.\n",
      "==================================\u001b[1m Ai Message \u001b[0m==================================\n",
      "Name: alternatives-generator\n",
      "\n",
      "Transferring back to supervisor\n",
      "Tool Calls:\n",
      "  transfer_back_to_supervisor (a759ac4e-51fc-40be-a72a-db83c83190d3)\n",
      " Call ID: a759ac4e-51fc-40be-a72a-db83c83190d3\n",
      "  Args:\n",
      "=================================\u001b[1m Tool Message \u001b[0m=================================\n",
      "Name: transfer_back_to_supervisor\n",
      "\n",
      "Successfully transferred back to supervisor\n",
      "==================================\u001b[1m Ai Message \u001b[0m==================================\n",
      "Name: supervisor\n",
      "\n",
      "Here are some alternatives to Ibuprofen for pain relief:\n",
      "\n",
      "1. **Celecoxib**:\n",
      "   - Effective for moderate to severe pain.\n",
      "   - Provides relief within 60 minutes.\n",
      "   - Often used for conditions like dysmenorrhea and post-surgical pain.\n",
      "   - Lower risk of gastrointestinal side effects compared to traditional NSAIDs, but may pose cardiovascular risks.\n",
      "\n",
      "2. **Mefenamic Acid**:\n",
      "   - Effective for treating primary dysmenorrhea.\n",
      "   - Typically used for menstrual pain.\n",
      "   - Requires assessment of pain severity and may need additional analgesics.\n",
      "   - Similar gastrointestinal risks as other NSAIDs; use with caution in patients with a history of such issues.\n",
      "\n",
      "### Key Differences:\n",
      "- **Onset of Action**: Celecoxib may provide faster relief than mefenamic acid.\n",
      "- **Side Effects**: Both have common NSAID side effects, but celecoxib may be easier on the stomach.\n",
      "- **Indications**: Mefenamic acid is more focused on menstrual pain, while celecoxib has broader applications.\n",
      "\n",
      "### Recommendations:\n",
      "- Consult with a healthcare provider before switching medications.\n",
      "- Monitor for any adverse effects, especially gastrointestinal symptoms, and report them to a healthcare professional.\n",
      "\n",
      "These alternatives can be effective, but individual responses may vary, so personalized advice is essential.\n"
     ]
    }
   ],
   "source": [
    "for m in result[\"messages\"]:\n",
    "    m.pretty_print()"
   ]
  },
  {
   "cell_type": "code",
   "execution_count": 20,
   "metadata": {},
   "outputs": [
    {
     "name": "stdout",
     "output_type": "stream",
     "text": [
      "Here are some alternatives to Ibuprofen for pain relief:\n",
      "\n",
      "1. **Celecoxib**:\n",
      "   - Effective for moderate to severe pain.\n",
      "   - Provides relief within 60 minutes.\n",
      "   - Often used for conditions like dysmenorrhea and post-surgical pain.\n",
      "   - Lower risk of gastrointestinal side effects compared to traditional NSAIDs, but may pose cardiovascular risks.\n",
      "\n",
      "2. **Mefenamic Acid**:\n",
      "   - Effective for treating primary dysmenorrhea.\n",
      "   - Typically used for menstrual pain.\n",
      "   - Requires assessment of pain severity and may need additional analgesics.\n",
      "   - Similar gastrointestinal risks as other NSAIDs; use with caution in patients with a history of such issues.\n",
      "\n",
      "### Key Differences:\n",
      "- **Onset of Action**: Celecoxib may provide faster relief than mefenamic acid.\n",
      "- **Side Effects**: Both have common NSAID side effects, but celecoxib may be easier on the stomach.\n",
      "- **Indications**: Mefenamic acid is more focused on menstrual pain, while celecoxib has broader applications.\n",
      "\n",
      "### Recommendations:\n",
      "- Consult with a healthcare provider before switching medications.\n",
      "- Monitor for any adverse effects, especially gastrointestinal symptoms, and report them to a healthcare professional.\n",
      "\n",
      "These alternatives can be effective, but individual responses may vary, so personalized advice is essential.\n"
     ]
    }
   ],
   "source": [
    "from textwrap import dedent\n",
    "\n",
    "pretty_msg = dedent(result[\"messages\"][-1].content)\n",
    "print(pretty_msg)"
   ]
  }
 ],
 "metadata": {
  "kernelspec": {
   "display_name": "venv",
   "language": "python",
   "name": "python3"
  },
  "language_info": {
   "codemirror_mode": {
    "name": "ipython",
    "version": 3
   },
   "file_extension": ".py",
   "mimetype": "text/x-python",
   "name": "python",
   "nbconvert_exporter": "python",
   "pygments_lexer": "ipython3",
   "version": "3.12.7"
  }
 },
 "nbformat": 4,
 "nbformat_minor": 2
}
