{
 "cells": [
  {
   "cell_type": "code",
   "execution_count": 1,
   "metadata": {},
   "outputs": [],
   "source": [
    "from langchain_core.messages import HumanMessage\n",
    "from langgraph.graph import StateGraph, START, END, MessagesState\n",
    "from langgraph.prebuilt import create_react_agent\n",
    "from langgraph.types import Command\n",
    "from typing import Literal\n",
    "from typing_extensions import TypedDict"
   ]
  },
  {
   "cell_type": "code",
   "execution_count": null,
   "metadata": {},
   "outputs": [],
   "source": [
    "from langchain_openai import ChatOpenAI\n",
    "\n",
    "llm = ChatOpenAI(temperature=0, api_key=\"\", model=\"gpt-4o-mini\")"
   ]
  },
  {
   "cell_type": "code",
   "execution_count": 3,
   "metadata": {},
   "outputs": [],
   "source": [
    "import chromadb\n",
    "\n",
    "client = chromadb.PersistentClient(path=\"chroma_db\")\n",
    "collection = client.get_collection(\"pharma-kb\")\n"
   ]
  },
  {
   "cell_type": "code",
   "execution_count": 4,
   "metadata": {},
   "outputs": [],
   "source": [
    "def search_pharma_kb(query, top_n=10):\n",
    "    results = collection.query(\n",
    "        query_texts=[query],\n",
    "        n_results=top_n\n",
    "    )\n",
    "\n",
    "    return {\"documents\": results[\"documents\"]}"
   ]
  },
  {
   "cell_type": "code",
   "execution_count": 5,
   "metadata": {},
   "outputs": [],
   "source": [
    "from langchain.tools import Tool\n",
    "search_pharma_kb_tool = Tool(\n",
    "    name=\"pharma_kb_search\",\n",
    "    func=search_pharma_kb,\n",
    "    description=\"Pharamaceutical knowledge base\"\n",
    ")"
   ]
  },
  {
   "cell_type": "code",
   "execution_count": 6,
   "metadata": {},
   "outputs": [],
   "source": [
    "qa_agent = create_react_agent(\n",
    "    model=llm,\n",
    "    tools=[search_pharma_kb_tool],\n",
    "    prompt=\"You are a pharmaceutical expert specializing in answering user questions about medication, composition, dosage, and side effects. Use the pharma knowledge base to retrieve relevant information and answer the user's questions in a detailed, natural language format. Provide references from the dataset when necessary. Just use the chunks from the knowledge to answer.\"\n",
    ")"
   ]
  },
  {
   "cell_type": "code",
   "execution_count": 7,
   "metadata": {},
   "outputs": [],
   "source": [
    "recommender_agent = create_react_agent(\n",
    "    model=llm,\n",
    "    tools=[search_pharma_kb_tool],\n",
    "    prompt=\"You are a pharmaceutical expert in recommending medications. Based on user symptoms or conditions, recommend the appropriate medication while warning about possible harmful combinations or contraindications. Use the pharma knowledge base to retrieve relevant details and ensure your recommendations are safe and personalized. Just use the chunks from the knowledge to answer.\"\n",
    ")"
   ]
  },
  {
   "cell_type": "code",
   "execution_count": 8,
   "metadata": {},
   "outputs": [],
   "source": [
    "alternatives_agent = create_react_agent(\n",
    "    model=llm,\n",
    "    tools=[search_pharma_kb_tool],\n",
    "    prompt=\"You are an expert in pharmaceutical alternatives. Based on user queries, suggest safe alternatives for medications. Use the pharma knowledge base to ensure the alternatives are appropriate and explain any differences in effects, risks, and usage instructions. Just use the chunks from the knowledge to answer.\"\n",
    ")"
   ]
  },
  {
   "cell_type": "code",
   "execution_count": 9,
   "metadata": {},
   "outputs": [],
   "source": [
    "summarizer_agent = create_react_agent(\n",
    "    model=llm,\n",
    "    tools=[search_pharma_kb_tool],\n",
    "    prompt=\"You are an expert at summarizing pharmaceutical products. Provide a concise and clear summary of the product's key details, including its purpose, administration instructions, side effects, and warnings. Use the pharma knowledge base for accurate information. Just use the chunks from the knowledge to answer.\"\n",
    ")"
   ]
  },
  {
   "cell_type": "code",
   "execution_count": 10,
   "metadata": {},
   "outputs": [],
   "source": [
    "members = [\"qa-agent\", \"recommender-agent\", \"alternatives-generator\", \"summarizer-agent\"]\n",
    "\n",
    "options = members + [\"Finish\"]\n",
    "\n",
    "class State(MessagesState):\n",
    "    next:str\n",
    "\n",
    "class Router(TypedDict):\n",
    "    next: Literal[*options]\n",
    "\n",
    "\n",
    "\n",
    "system_prompt = (\n",
    "    \"You are a supervisor tasked with managing a conversation between the\"\n",
    "    f\" following workers: {members}. Based on the user's request, determine\"\n",
    "    \" which worker (qa-agent, recommender-agent, alternatives-generator,\"\n",
    "    \" summarizer-agent) should handle the task. Each worker specializes in\"\n",
    "    \" different aspects: the qa-agent answers questions about medications, \"\n",
    "    \" the recommender-agent suggests medications, the alternatives-generator\"\n",
    "    \" suggests alternatives, and the summarizer-agent provides product\"\n",
    "    \" summaries. Choose the best worker to handle the task. If the task is complete,\"\n",
    "    \" respond with 'Finish'.\"\n",
    ")\n",
    "\n",
    "\n",
    "def supervisor_node(state:State) -> Command[Literal[*members, \"__end__\"]]:\n",
    "    messages = [\n",
    "        {\"role\": \"system\", \"content\": system_prompt}\n",
    "    ] + state[\"messages\"]\n",
    "    response = llm.with_structured_output(Router).invoke(messages)\n",
    "    goto = response[\"next\"]\n",
    "    if goto == \"Finish\":\n",
    "        goto = END\n",
    "    \n",
    "    return Command(goto=goto, update={\"next\": goto})\n",
    "\n",
    "def qa_node(state: State) -> Command[Literal[\"supervisor\"]]:\n",
    "    result = qa_agent.invoke(state)\n",
    "    return Command(\n",
    "        update={\n",
    "            \"messages\":[\n",
    "                HumanMessage(content=result[\"messages\"][-1].content, name=\"qa-agent\")\n",
    "            ]\n",
    "        },\n",
    "        goto=\"supervisor\"\n",
    "    )\n",
    "\n",
    "def recommender_node(state:State) -> Command[Literal[\"supervisor\"]]:\n",
    "    result = recommender_agent.invoke(state)\n",
    "    return Command(\n",
    "        update= {\n",
    "            \"messages\":[\n",
    "                HumanMessage(content=result[\"messages\"][-1].content, name=\"recommender-agent\")\n",
    "            ]\n",
    "        },\n",
    "        goto=\"supervisor\"\n",
    "    )\n",
    "\n",
    "def alternatives_node(state:State) -> Command[Literal[\"supervisor\"]]:\n",
    "    result = alternatives_agent.invoke(state)\n",
    "    return Command(\n",
    "        update={\n",
    "            \"messages\":[\n",
    "                HumanMessage(content=result[\"messages\"][-1].content,\n",
    "                name=\"alternatives-generator\")\n",
    "            ]\n",
    "        },\n",
    "        goto=\"supervisor\"\n",
    "    )\n",
    "\n",
    "def summarizer_node(state:State) -> Command[Literal[\"supervisor\"]]:\n",
    "    result = summarizer_agent.invoke(state)\n",
    "    return Command(\n",
    "        update={\n",
    "            \"messages\":[\n",
    "                HumanMessage(content=result[\"messages\"][-1].content,\n",
    "                name=\"summarizer-agent\")\n",
    "            ]\n",
    "        },\n",
    "        goto=\"supervisor\"\n",
    "    )\n",
    "\n",
    "builder = StateGraph(State)\n",
    "builder.add_edge(START, \"supervisor\")\n",
    "builder.add_node(\"supervisor\", supervisor_node)\n",
    "builder.add_node(\"qa-agent\", qa_node)\n",
    "builder.add_node(\"recommender-agent\", recommender_node)\n",
    "builder.add_node(\"alternatives-generator\", alternatives_node)\n",
    "builder.add_node(\"summarizer-agent\", summarizer_node)\n",
    "graph = builder.compile()"
   ]
  },
  {
   "cell_type": "code",
   "execution_count": 11,
   "metadata": {},
   "outputs": [
    {
     "data": {
      "image/png": "[encoded data removed]",
      "text/plain": [
       "<IPython.core.display.Image object>"
      ]
     },
     "metadata": {},
     "output_type": "display_data"
    }
   ],
   "source": [
    "from IPython.display import display, Image\n",
    "display(Image(graph.get_graph().draw_mermaid_png()))"
   ]
  },
  {
   "cell_type": "code",
   "execution_count": 15,
   "metadata": {},
   "outputs": [
    {
     "name": "stdout",
     "output_type": "stream",
     "text": [
      "((), {'supervisor': {'next': 'qa-agent'}})\n",
      "----\n",
      "(('qa-agent:df3bc695-f057-3523-d91b-9f09c8c09a64',), {'agent': {'messages': [AIMessage(content='', additional_kwargs={'tool_calls': [{'id': 'call_sxIty13V0huLfvy2jB0PVNXL', 'function': {'arguments': '{\"__arg1\":\"aspirin side effects\"}', 'name': 'pharma_kb_search'}, 'type': 'function'}], 'refusal': None}, response_metadata={'token_usage': {'completion_tokens': 23, 'prompt_tokens': 122, 'total_tokens': 145, 'completion_tokens_details': {'accepted_prediction_tokens': 0, 'audio_tokens': 0, 'reasoning_tokens': 0, 'rejected_prediction_tokens': 0}, 'prompt_tokens_details': {'audio_tokens': 0, 'cached_tokens': 0}}, 'model_name': 'gpt-4o-mini-2024-07-18', 'system_fingerprint': 'fp_00428b782a', 'finish_reason': 'tool_calls', 'logprobs': None}, id='run-4dc72d7d-1dba-4bde-91bd-77a9305b4e4a-0', tool_calls=[{'name': 'pharma_kb_search', 'args': {'__arg1': 'aspirin side effects'}, 'id': 'call_sxIty13V0huLfvy2jB0PVNXL', 'type': 'tool_call'}], usage_metadata={'input_tokens': 122, 'output_tokens': 23, 'total_tokens': 145, 'input_token_details': {'audio': 0, 'cache_read': 0}, 'output_token_details': {'audio': 0, 'reasoning': 0}})]}})\n",
      "----\n",
      "(('qa-agent:df3bc695-f057-3523-d91b-9f09c8c09a64',), {'tools': {'messages': [ToolMessage(content='{\"documents\": [[\"if you have any of these symptoms of a liver problem while taking aspirin and extended-release dipyridamole capsule:loss of appetitepale colored stoolstomach area (abdomen) painyellowing of your skin or whites of your eyesdark urineitchingCall your healthcare provider right away if you have any of the symptoms listed above.The most common side effects of aspirin and extended-release dipyridamole capsule include:headacheupset stomachdiarrheaThese are not all the possible side effects of aspirin\", \"during treatment with aspirin and extended-release dipyridamole capsule, because it contains aspirin.What are the possible side effects of aspirin and extended-release dipyridamole capsule?Aspirin and extended-release dipyridamole capsule may cause serious side effects, including:increased risk of bleeding.You may bleed more easily during aspirin and extended-release dipyridamole capsule treatment, and it may take longer than usual for bleeding to stop. This can include:bleeding into your brain\", \"during treatment with aspirin and extended-release dipyridamole capsule, because it contains aspirin.What are the possible side effects of aspirin and extended-release dipyridamole capsule?Aspirin and extended-release dipyridamole capsule may cause serious side effects, including:increased risk of bleeding.You may bleed more easily during aspirin and extended-release dipyridamole capsule treatment, and it may take longer than usual for bleeding to stop. This can include:bleeding into your brain\", \"during treatment with aspirin and extended-release dipyridamole capsule, because it contains aspirin.What are the possible side effects of aspirin and extended-release dipyridamole capsule?Aspirin and extended-release dipyridamole capsule may cause serious side effects, including:increased risk of bleeding.You may bleed more easily during aspirin and extended-release dipyridamole capsule treatment, and it may take longer than usual for bleeding to stop. This can include:bleeding into your brain\", \"during treatment with aspirin and extended-release dipyridamole capsule, because it contains aspirin.What are the possible side effects of aspirin and extended-release dipyridamole capsule?Aspirin and extended-release dipyridamole capsule may cause serious side effects, including:increased risk of bleeding.You may bleed more easily during aspirin and extended-release dipyridamole capsule treatment, and it may take longer than usual for bleeding to stop. This can include:bleeding into your brain\", \"during treatment with aspirin and extended-release dipyridamole capsule, because it contains aspirin.What are the possible side effects of aspirin and extended-release dipyridamole capsule?Aspirin and extended-release dipyridamole capsule may cause serious side effects, including:increased risk of bleeding.You may bleed more easily during aspirin and extended-release dipyridamole capsule treatment, and it may take longer than usual for bleeding to stop. This can include:bleeding into your brain\", \"during treatment with aspirin and extended-release dipyridamole capsule, because it contains aspirin.What are the possible side effects of aspirin and extended-release dipyridamole capsule?Aspirin and extended-release dipyridamole capsule may cause serious side effects, including:increased risk of bleeding.You may bleed more easily during aspirin and extended-release dipyridamole capsule treatment, and it may take longer than usual for bleeding to stop. This can include:bleeding into your brain\", \"during treatment with aspirin and extended-release dipyridamole capsule, because it contains aspirin.What are the possible side effects of aspirin and extended-release dipyridamole capsule?Aspirin and extended-release dipyridamole capsule may cause serious side effects, including:increased risk of bleeding.You may bleed more easily during aspirin and extended-release dipyridamole capsule treatment, and it may take longer than usual for bleeding to stop. This can include:bleeding into your brain\", \"during treatment with aspirin and extended-release dipyridamole capsule, because it contains aspirin.What are the possible side effects of aspirin and extended-release dipyridamole capsule?Aspirin and extended-release dipyridamole capsule may cause serious side effects, including:increased risk of bleeding.You may bleed more easily during aspirin and extended-release dipyridamole capsule treatment, and it may take longer than usual for bleeding to stop. This can include:bleeding into your brain\", \"during treatment with aspirin and extended-release dipyridamole capsule, because it contains aspirin.What are the possible side effects of aspirin and extended-release dipyridamole capsule?Aspirin and extended-release dipyridamole capsule may cause serious side effects, including:increased risk of bleeding.You may bleed more easily during aspirin and extended-release dipyridamole capsule treatment, and it may take longer than usual for bleeding to stop. This can include:bleeding into your brain\"]]}', name='pharma_kb_search', id='2102c64f-2308-48c3-8bce-e15688e911ce', tool_call_id='call_sxIty13V0huLfvy2jB0PVNXL')]}})\n",
      "----\n",
      "(('qa-agent:df3bc695-f057-3523-d91b-9f09c8c09a64',), {'agent': {'messages': [AIMessage(content='Aspirin can cause a range of side effects, some of which may be serious. Here are the most common and notable side effects associated with aspirin use:\\n\\n### Common Side Effects:\\n1. **Headache**\\n2. **Upset stomach**\\n3. **Diarrhea**\\n\\n### Serious Side Effects:\\n1. **Increased Risk of Bleeding**: Aspirin can make you bleed more easily and may prolong the time it takes for bleeding to stop. This includes the risk of bleeding into the brain, which can be life-threatening.\\n2. **Liver Problems**: Symptoms of liver issues may include:\\n   - Loss of appetite\\n   - Pale-colored stool\\n   - Abdominal pain\\n   - Yellowing of the skin or eyes (jaundice)\\n   - Dark urine\\n   - Itching\\n\\nIf you experience any of these serious side effects, it is crucial to contact your healthcare provider immediately.\\n\\n### Note:\\nThese are not all possible side effects of aspirin, and individuals may experience different reactions. Always consult with a healthcare professional for personalized advice and information regarding medication.', additional_kwargs={'refusal': None}, response_metadata={'token_usage': {'completion_tokens': 222, 'prompt_tokens': 1183, 'total_tokens': 1405, 'completion_tokens_details': {'accepted_prediction_tokens': 0, 'audio_tokens': 0, 'reasoning_tokens': 0, 'rejected_prediction_tokens': 0}, 'prompt_tokens_details': {'audio_tokens': 0, 'cached_tokens': 1024}}, 'model_name': 'gpt-4o-mini-2024-07-18', 'system_fingerprint': 'fp_00428b782a', 'finish_reason': 'stop', 'logprobs': None}, id='run-b0bbe8f6-1862-4791-af2c-5a92d8b1e0b4-0', usage_metadata={'input_tokens': 1183, 'output_tokens': 222, 'total_tokens': 1405, 'input_token_details': {'audio': 0, 'cache_read': 1024}, 'output_token_details': {'audio': 0, 'reasoning': 0}})]}})\n",
      "----\n",
      "((), {'qa-agent': {'messages': [HumanMessage(content='Aspirin can cause a range of side effects, some of which may be serious. Here are the most common and notable side effects associated with aspirin use:\\n\\n### Common Side Effects:\\n1. **Headache**\\n2. **Upset stomach**\\n3. **Diarrhea**\\n\\n### Serious Side Effects:\\n1. **Increased Risk of Bleeding**: Aspirin can make you bleed more easily and may prolong the time it takes for bleeding to stop. This includes the risk of bleeding into the brain, which can be life-threatening.\\n2. **Liver Problems**: Symptoms of liver issues may include:\\n   - Loss of appetite\\n   - Pale-colored stool\\n   - Abdominal pain\\n   - Yellowing of the skin or eyes (jaundice)\\n   - Dark urine\\n   - Itching\\n\\nIf you experience any of these serious side effects, it is crucial to contact your healthcare provider immediately.\\n\\n### Note:\\nThese are not all possible side effects of aspirin, and individuals may experience different reactions. Always consult with a healthcare professional for personalized advice and information regarding medication.', additional_kwargs={}, response_metadata={}, name='qa-agent')]}})\n",
      "----\n",
      "((), {'supervisor': {'next': '__end__'}})\n",
      "----\n"
     ]
    }
   ],
   "source": [
    "for s in graph.stream(\n",
    "    {\n",
    "        \"messages\": [\n",
    "            (\n",
    "                \"user\",\n",
    "                \"What are the side effects of taking aspirin?\",\n",
    "            )\n",
    "        ]\n",
    "    },\n",
    "    subgraphs=True,\n",
    "):\n",
    "    print(s)\n",
    "    print(\"----\")"
   ]
  }
 ],
 "metadata": {
  "kernelspec": {
   "display_name": "venv",
   "language": "python",
   "name": "python3"
  },
  "language_info": {
   "codemirror_mode": {
    "name": "ipython",
    "version": 3
   },
   "file_extension": ".py",
   "mimetype": "text/x-python",
   "name": "python",
   "nbconvert_exporter": "python",
   "pygments_lexer": "ipython3",
   "version": "3.12.7"
  }
 },
 "nbformat": 4,
 "nbformat_minor": 2
}
